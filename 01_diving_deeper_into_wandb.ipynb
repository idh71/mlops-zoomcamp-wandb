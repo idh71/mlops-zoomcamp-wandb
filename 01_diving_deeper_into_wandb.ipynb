{
 "cells": [
  {
   "attachments": {},
   "cell_type": "markdown",
   "metadata": {},
   "source": [
    "# Diving Deeper into Weights & Biases\n",
    "\n",
    "In this notebook, we will explore the following\n",
    "\n",
    "* Versioning datasets using [Artifacts](https://docs.wandb.ai/guides/artifacts).\n",
    "* Exploring and visualizing our datasets with [Tables](https://docs.wandb.ai/guides/data-vis)."
   ]
  },
  {
   "attachments": {},
   "cell_type": "markdown",
   "metadata": {},
   "source": [
    "## Import the Libraries"
   ]
  },
  {
   "cell_type": "code",
   "execution_count": null,
   "metadata": {},
   "outputs": [],
   "source": [
    "import wandb\n",
    "\n",
    "import os\n",
    "import pandas as pd"
   ]
  },
  {
   "attachments": {},
   "cell_type": "markdown",
   "metadata": {},
   "source": [
    "## Logging Dataset to Artifacts"
   ]
  },
  {
   "attachments": {},
   "cell_type": "markdown",
   "metadata": {},
   "source": [
    "Download the `train.csv` and `test.csv` files from [Titanic - Machine Learning from Disaster](https://www.kaggle.com/competitions/titanic/data) and place them in the `data` directory."
   ]
  },
  {
   "cell_type": "code",
   "execution_count": null,
   "metadata": {},
   "outputs": [],
   "source": [
    "# Initialize a WandB Run\n",
    "wandb.init(project=\"mlops-zoomcamp-wandb\", job_type=\"log_data\")\n",
    "\n",
    "# Log the `data` directory as an artifact\n",
    "artifact = wandb.Artifact('Titanic', type='dataset', metadata={\"Source\": \"https://www.kaggle.com/competitions/titanic/data\"})\n",
    "artifact.add_dir('data')\n",
    "wandb.log_artifact(artifact)\n",
    "\n",
    "# End the WandB Run\n",
    "wandb.finish()"
   ]
  },
  {
   "attachments": {},
   "cell_type": "markdown",
   "metadata": {},
   "source": [
    "## Versioning the Data"
   ]
  },
  {
   "cell_type": "code",
   "execution_count": null,
   "metadata": {},
   "outputs": [],
   "source": [
    "# Initialize a WandB Run\n",
    "wandb.init(project=\"mlops-zoomcamp-wandb\", job_type=\"log_data\")\n",
    "\n",
    "# Fetch the dataset artifact \n",
    "artifact = wandb.use_artifact('geekyrakshit/mlops-zoomcamp-wandb/Titanic:v0', type='dataset')\n",
    "artifact_dir = artifact.download()"
   ]
  },
  {
   "attachments": {},
   "cell_type": "markdown",
   "metadata": {},
   "source": [
    "Read the dataset files"
   ]
  },
  {
   "cell_type": "code",
   "execution_count": null,
   "metadata": {},
   "outputs": [],
   "source": [
    "train_df = pd.read_csv(os.path.join(artifact_dir, \"train.csv\"))\n",
    "test_df = pd.read_csv(os.path.join(artifact_dir, \"test.csv\"))"
   ]
  },
  {
   "cell_type": "code",
   "execution_count": null,
   "metadata": {},
   "outputs": [],
   "source": [
    "num_train_examples = int(0.8 * len(train_df))\n",
    "num_val_examples = len(train_df) - num_train_examples\n",
    "\n",
    "print(num_train_examples, num_val_examples)"
   ]
  },
  {
   "cell_type": "code",
   "execution_count": null,
   "metadata": {},
   "outputs": [],
   "source": [
    "train_df[\"Split\"] = [\"Train\"] * num_train_examples + [\"Validation\"] * num_val_examples\n",
    "train_df.to_csv(\"data/train.csv\", encoding='utf-8', index=False)"
   ]
  },
  {
   "cell_type": "code",
   "execution_count": null,
   "metadata": {},
   "outputs": [],
   "source": [
    "# Log the `data` directory as an artifact\n",
    "artifact = wandb.Artifact('Titanic', type='dataset', metadata={\"Source\": \"https://www.kaggle.com/competitions/titanic/data\"})\n",
    "artifact.add_dir('data')\n",
    "wandb.log_artifact(artifact)\n",
    "\n",
    "# End the WandB Run\n",
    "wandb.finish()"
   ]
  },
  {
   "attachments": {},
   "cell_type": "markdown",
   "metadata": {},
   "source": [
    "## Explore the Dataset"
   ]
  },
  {
   "cell_type": "code",
   "execution_count": null,
   "metadata": {},
   "outputs": [],
   "source": [
    "# Initialize a WandB Run\n",
    "wandb.init(project=\"mlops-zoomcamp-wandb\", job_type=\"explore_data\")\n",
    "\n",
    "# Fetch the latest version of the dataset artifact \n",
    "artifact = wandb.use_artifact('geekyrakshit/mlops-zoomcamp-wandb/Titanic:latest', type='dataset')\n",
    "artifact_dir = artifact.download()\n",
    "\n",
    "# Read the files\n",
    "train_val_df = pd.read_csv(os.path.join(artifact_dir, \"train.csv\"))\n",
    "test_df = pd.read_csv(os.path.join(artifact_dir, \"test.csv\"))"
   ]
  },
  {
   "cell_type": "code",
   "execution_count": null,
   "metadata": {},
   "outputs": [],
   "source": [
    "# Create tables corresponding to datasets\n",
    "train_val_table = wandb.Table(dataframe=train_val_df)\n",
    "test_table = wandb.Table(dataframe=test_df)\n",
    "\n",
    "# Log the tables to Weights & Biases\n",
    "wandb.log({\n",
    "    \"Train-Val-Table\": train_val_table,\n",
    "    \"Test-Table\": test_table\n",
    "})\n",
    "\n",
    "# End the WandB Run\n",
    "wandb.finish()"
   ]
  },
  {
   "cell_type": "code",
   "execution_count": null,
   "metadata": {},
   "outputs": [],
   "source": []
  }
 ],
 "metadata": {
  "kernelspec": {
   "display_name": "Python 3",
   "language": "python",
   "name": "python3"
  },
  "language_info": {
   "codemirror_mode": {
    "name": "ipython",
    "version": 3
   },
   "file_extension": ".py",
   "mimetype": "text/x-python",
   "name": "python",
   "nbconvert_exporter": "python",
   "pygments_lexer": "ipython3",
   "version": "3.10.4"
  },
  "orig_nbformat": 4
 },
 "nbformat": 4,
 "nbformat_minor": 2
}
